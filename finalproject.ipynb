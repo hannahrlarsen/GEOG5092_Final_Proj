{
 "cells": [
  {
   "cell_type": "code",
   "execution_count": 1,
   "metadata": {},
   "outputs": [
    {
     "name": "stderr",
     "output_type": "stream",
     "text": [
      "c:\\Users\\suwak\\anaconda3\\envs\\geog5092\\lib\\site-packages\\pyproj\\crs\\crs.py:130: FutureWarning: '+init=<authority>:<code>' syntax is deprecated. '<authority>:<code>' is the preferred initialization method. When making the change, be mindful of axis order changes: https://pyproj4.github.io/pyproj/stable/gotchas.html#axis-order-changes-in-proj-6\n",
      "  in_crs_string = _prepare_from_proj_string(in_crs_string)\n",
      "c:\\Users\\suwak\\anaconda3\\envs\\geog5092\\lib\\site-packages\\pyproj\\crs\\crs.py:130: FutureWarning: '+init=<authority>:<code>' syntax is deprecated. '<authority>:<code>' is the preferred initialization method. When making the change, be mindful of axis order changes: https://pyproj4.github.io/pyproj/stable/gotchas.html#axis-order-changes-in-proj-6\n",
      "  in_crs_string = _prepare_from_proj_string(in_crs_string)\n"
     ]
    }
   ],
   "source": [
    "#Step 1: Import the data and coordinates \n",
    "#Step 2: Put coordinates into a dataframe and subsequently a geodataframe\n",
    "#Step 3: Match the coordinates with the object ID (hives)\n",
    "#Step 4: Project the shapefile and coordinates\n",
    "#Step 5: Create a function to perform statistical analsysis on the elements\n",
    "#Step 6: Put buffer around the beehives\n",
    "#Step 7: Create a graduated symbols map of the point data\n",
    "\n",
    "import geopandas as gpd\n",
    "import pandas as pd\n",
    "import os\n",
    "\n",
    "# def statistics_func (file, column_number):\n",
    "#   statistics for mean, median, etc.\n",
    "  \n",
    "# def chloropleth_func (beehives, ....):\n",
    "#   create map\n",
    "\n",
    "# path = 'C:/Users/larsenh/Downloads/'\n",
    "\n",
    "# coord_list = []\n",
    "# with open(path + 'Coordinates.txt') as file:\n",
    "#     for coordinates in file:\n",
    "#         temp_list = tuple(coordinates.strip().split('\\t'))\n",
    "\n",
    "# elements_list = []\n",
    "# with open(path + 'Elements.txt') as file:\n",
    "#     for ele in file:\n",
    "#         temp_list = tuple(ele.strip().split('\\t'))\n",
    "\n",
    "\n",
    "# coords_df = pd.DataFrame(new_coords, columns=['Longitude', 'Latitude'])\n",
    "# coords_gdf = gpd.GeoDataFrame(coords_df, geometry = gpd.points_from_xy(coords_df.Longitude, \n",
    "#             coords_df.Latitude))\n",
    "\n",
    "# elements_df = pd.DataFrame(new_elements, columns=['Longitude', 'Latitude'])\n",
    "# elements_gdf = gpd.GeoDataFrame(elements_df, geometry = gpd.points_from_xy(elements_df.Longitude, \n",
    "#             elements_df.Latitude))\n",
    "\n",
    "\n",
    "# crs = {'init': 'epsg:4326'}\n",
    "# coords_gdf = gpd.GeoDataFrame(coords_gdf, crs = crs)\n",
    "# elements_gdf = gpd.GeoDataFrame(elements_gdf, crs = crs)\n",
    "\n",
    "#read shapefile\n",
    "shapefile = gpd.read_file(\"./Superfund_Shape/Superfund_Shape.shp\")\n",
    "\n",
    "#read coordinate and elements data\n",
    "hmsdata = pd.read_csv('./Heavy Metal Sheet-Final.csv')\n",
    "hmsdf = pd.DataFrame(hmsdata)\n",
    "elements = hmsdf.iloc[: , 3:12].copy()\n",
    "coord = hmsdf.iloc[: , [12,13]].copy()\n",
    "\n",
    "#convert coordinates dataframe to geodataframe\n",
    "coords_gdf = gpd.GeoDataFrame(coord, geometry=gpd.points_from_xy(hmsdf.Coordinate2, hmsdf.Coordinate1))\n",
    "\n",
    "#set the initial geodataframe crs\n",
    "coords_gdf.crs = \"EPSG:4326\"\n",
    "\n",
    "#convert coordinates to a Colorado specific projection\n",
    "beehives_gdf = coords_gdf.to_crs({'init': 'epsg:26954'})\n",
    "shapefile = shapefile.to_crs({'init': 'epsg:26954'})\n",
    "\n",
    "#buffer for 3 miles in meters (I think the buffer uses the CRS measurement for calculation, the CRS for EPSG:26954 is in meters so\n",
    "  #it wants meters for the buffer function\n",
    "beehives_buffer = beehives_gdf.buffer(4828.03)\n",
    "\n",
    "#Superfund sites that fall within one of the beehive buffers?\n",
    "# for hive in beehives_buffer:\n",
    "#   hive.intersection(shapefile)\n",
    "  \n",
    "  \n",
    "# #Export files to shapefile\n",
    "# beehives_gdf.to_file('beehive_locations.shp')\n",
    "# beehives_buffer.to_file('beehives_buffer.shp')\n"
   ]
  },
  {
   "cell_type": "code",
   "execution_count": null,
   "metadata": {},
   "outputs": [],
   "source": []
  }
 ],
 "metadata": {
  "kernelspec": {
   "display_name": "Python 3.8.13 ('geog5092')",
   "language": "python",
   "name": "python3"
  },
  "language_info": {
   "codemirror_mode": {
    "name": "ipython",
    "version": 3
   },
   "file_extension": ".py",
   "mimetype": "text/x-python",
   "name": "python",
   "nbconvert_exporter": "python",
   "pygments_lexer": "ipython3",
   "version": "3.8.13"
  },
  "orig_nbformat": 4,
  "vscode": {
   "interpreter": {
    "hash": "29adcb4cd8ae22cf914906a1f1f4973d9fc0d0b72124e75dbf2ebf281f5fe8e3"
   }
  }
 },
 "nbformat": 4,
 "nbformat_minor": 2
}
